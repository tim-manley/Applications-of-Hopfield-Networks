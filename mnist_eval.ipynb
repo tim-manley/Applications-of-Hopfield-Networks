{
 "cells": [
  {
   "cell_type": "code",
   "execution_count": 1,
   "metadata": {},
   "outputs": [],
   "source": [
    "from network import ContinuousHopfieldNetwork\n",
    "from keras.datasets import mnist\n",
    "import numpy as np"
   ]
  },
  {
   "cell_type": "code",
   "execution_count": 2,
   "metadata": {},
   "outputs": [
    {
     "name": "stdout",
     "output_type": "stream",
     "text": [
      "X_train: (60000, 784)\n",
      "Y_train: (60000, 1)\n",
      "X_test:  (10000, 784)\n",
      "Y_test:  (10000,)\n",
      "final_train: (10000, 785)\n",
      "final_test: (5000, 785)\n"
     ]
    }
   ],
   "source": [
    "(train_X, train_y), (test_X, test_y) = mnist.load_data()\n",
    "\n",
    "# prepare training data\n",
    "train_X = train_X.reshape((train_X.shape[0], -1))\n",
    "train_X = np.linalg.norm(train_X, axis=1)\n",
    "train_y = train_y.reshape(-1, 1)\n",
    "final_train = np.concatenate((train_X, train_y), axis=1)[:10000]\n",
    "\n",
    "\n",
    "# prepare testing data\n",
    "test_X = test_X.reshape((test_X.shape[0], -1))\n",
    "test_X = np.linalg.norm(test_X, axis=1)\n",
    "classification = np.zeros(test_y.reshape(-1,1).shape)\n",
    "final_test = np.concatenate((test_X, classification), axis=1)[:5000]\n",
    "\n",
    "\n",
    "print('X_train: ' + str(train_X.shape))\n",
    "print('Y_train: ' + str(train_y.shape))\n",
    "print('X_test:  '  + str(test_X.shape))\n",
    "print('Y_test:  '  + str(test_y.shape))\n",
    "print('final_train: ' + str(final_train.shape))\n",
    "print('final_test: ' + str(final_test.shape))"
   ]
  },
  {
   "cell_type": "code",
   "execution_count": 3,
   "metadata": {},
   "outputs": [],
   "source": [
    "model = ContinuousHopfieldNetwork()\n",
    "\n",
    "model.train(final_train)"
   ]
  },
  {
   "cell_type": "code",
   "execution_count": 4,
   "metadata": {},
   "outputs": [
    {
     "name": "stderr",
     "output_type": "stream",
     "text": [
      "  0%|          | 0/5000 [00:00<?, ?it/s]/Users/tim_manley/Documents/College/Thesis/new_code_env/network.py:139: RuntimeWarning: overflow encountered in exp\n",
      "  temp = np.exp(temp)/sum(np.exp(temp))\n",
      "/Users/tim_manley/Documents/College/Thesis/new_code_env/network.py:139: RuntimeWarning: invalid value encountered in divide\n",
      "  temp = np.exp(temp)/sum(np.exp(temp))\n",
      "  0%|          | 0/5000 [00:00<?, ?it/s]"
     ]
    },
    {
     "name": "stdout",
     "output_type": "stream",
     "text": [
      "Start:  [0. 0. 0. 0. 0. 0. 0. 0. 0. 0.]\n",
      "First temp:  [2023808. 1785974.  953124.  554484. 1685589. 2014522. 1100314. 2423667.\n",
      "  734331. 1669752.]\n",
      "Second temp:  [nan nan nan nan nan nan nan nan nan nan]\n",
      "End:  [nan nan nan nan nan nan nan nan nan nan]\n",
      "predictions shape: (5000, 785)\n"
     ]
    },
    {
     "name": "stderr",
     "output_type": "stream",
     "text": [
      "\n"
     ]
    }
   ],
   "source": [
    "predictions = model.predict(final_test)\n",
    "\n",
    "print('predictions shape: ' + str(predictions.shape))"
   ]
  },
  {
   "cell_type": "code",
   "execution_count": 5,
   "metadata": {},
   "outputs": [
    {
     "name": "stdout",
     "output_type": "stream",
     "text": [
      "[nan nan nan nan nan nan nan nan nan nan nan nan nan nan nan nan nan nan\n",
      " nan nan nan nan nan nan nan nan nan nan nan nan nan nan nan nan nan nan\n",
      " nan nan nan nan nan nan nan nan nan nan nan nan nan nan nan nan nan nan\n",
      " nan nan nan nan nan nan nan nan nan nan nan nan nan nan nan nan nan nan\n",
      " nan nan nan nan nan nan nan nan nan nan nan nan nan nan nan nan nan nan\n",
      " nan nan nan nan nan nan nan nan nan nan nan nan nan nan nan nan nan nan\n",
      " nan nan nan nan nan nan nan nan nan nan nan nan nan nan nan nan nan nan\n",
      " nan nan nan nan nan nan nan nan nan nan nan nan nan nan nan nan nan nan\n",
      " nan nan nan nan nan nan nan nan nan nan nan nan nan nan nan nan nan nan\n",
      " nan nan nan nan nan nan nan nan nan nan nan nan nan nan nan nan nan nan\n",
      " nan nan nan nan nan nan nan nan nan nan nan nan nan nan nan nan nan nan\n",
      " nan nan nan nan nan nan nan nan nan nan nan nan nan nan nan nan nan nan\n",
      " nan nan nan nan nan nan nan nan nan nan nan nan nan nan nan nan nan nan\n",
      " nan nan nan nan nan nan nan nan nan nan nan nan nan nan nan nan nan nan\n",
      " nan nan nan nan nan nan nan nan nan nan nan nan nan nan nan nan nan nan\n",
      " nan nan nan nan nan nan nan nan nan nan nan nan nan nan nan nan nan nan\n",
      " nan nan nan nan nan nan nan nan nan nan nan nan nan nan nan nan nan nan\n",
      " nan nan nan nan nan nan nan nan nan nan nan nan nan nan nan nan nan nan\n",
      " nan nan nan nan nan nan nan nan nan nan nan nan nan nan nan nan nan nan\n",
      " nan nan nan nan nan nan nan nan nan nan nan nan nan nan nan nan nan nan\n",
      " nan nan nan nan nan nan nan nan nan nan nan nan nan nan nan nan nan nan\n",
      " nan nan nan nan nan nan nan nan nan nan nan nan nan nan nan nan nan nan\n",
      " nan nan nan nan nan nan nan nan nan nan nan nan nan nan nan nan nan nan\n",
      " nan nan nan nan nan nan nan nan nan nan nan nan nan nan nan nan nan nan\n",
      " nan nan nan nan nan nan nan nan nan nan nan nan nan nan nan nan nan nan\n",
      " nan nan nan nan nan nan nan nan nan nan nan nan nan nan nan nan nan nan\n",
      " nan nan nan nan nan nan nan nan nan nan nan nan nan nan nan nan nan nan\n",
      " nan nan nan nan nan nan nan nan nan nan nan nan nan nan nan nan nan nan\n",
      " nan nan nan nan nan nan nan nan nan nan nan nan nan nan nan nan nan nan\n",
      " nan nan nan nan nan nan nan nan nan nan nan nan nan nan nan nan nan nan\n",
      " nan nan nan nan nan nan nan nan nan nan nan nan nan nan nan nan nan nan\n",
      " nan nan nan nan nan nan nan nan nan nan nan nan nan nan nan nan nan nan\n",
      " nan nan nan nan nan nan nan nan nan nan nan nan nan nan nan nan nan nan\n",
      " nan nan nan nan nan nan nan nan nan nan nan nan nan nan nan nan nan nan\n",
      " nan nan nan nan nan nan nan nan nan nan nan nan nan nan nan nan nan nan\n",
      " nan nan nan nan nan nan nan nan nan nan nan nan nan nan nan nan nan nan\n",
      " nan nan nan nan nan nan nan nan nan nan nan nan nan nan nan nan nan nan\n",
      " nan nan nan nan nan nan nan nan nan nan nan nan nan nan nan nan nan nan\n",
      " nan nan nan nan nan nan nan nan nan nan nan nan nan nan nan nan nan nan\n",
      " nan nan nan nan nan nan nan nan nan nan nan nan nan nan nan nan nan nan\n",
      " nan nan nan nan nan nan nan nan nan nan nan nan nan nan nan nan nan nan\n",
      " nan nan nan nan nan nan nan nan nan nan nan nan nan nan nan nan nan nan\n",
      " nan nan nan nan nan nan nan nan nan nan nan nan nan nan nan nan nan nan\n",
      " nan nan nan nan nan nan nan nan nan nan nan]\n",
      "(5000,)\n",
      "(10000,)\n",
      "nan\n",
      "7\n",
      "0.0\n",
      "2\n",
      "0.0\n",
      "1\n",
      "0.0\n",
      "0\n",
      "0.0\n",
      "4\n",
      "0.0\n",
      "1\n",
      "0.0\n",
      "4\n",
      "0.0\n",
      "9\n",
      "0.0\n",
      "5\n",
      "0.0\n",
      "9\n",
      "0.0\n",
      "0\n",
      "0.0\n",
      "6\n",
      "0.0\n",
      "9\n",
      "0.0\n",
      "0\n",
      "0.0\n",
      "1\n",
      "0.0\n",
      "5\n",
      "0.0\n",
      "9\n",
      "0.0\n",
      "7\n",
      "0.0\n",
      "3\n",
      "0.0\n",
      "4\n",
      "Accuracy: 15.0%\n"
     ]
    }
   ],
   "source": [
    "predicted_labels = predictions[:, -1]\n",
    "print(predictions[0])\n",
    "print(predicted_labels.shape)\n",
    "print(test_y.shape)\n",
    "\n",
    "total = 0\n",
    "num_wrong = 0\n",
    "for i, pred in enumerate(predicted_labels):\n",
    "    print(pred)\n",
    "    target = test_y[i]\n",
    "    print(target)\n",
    "    if pred != target:\n",
    "        num_wrong += 1\n",
    "    total += 1\n",
    "    if total == 20:\n",
    "        break\n",
    "\n",
    "print(f\"Accuracy: {((total - num_wrong)/total) * 100}%\")\n"
   ]
  }
 ],
 "metadata": {
  "kernelspec": {
   "display_name": "Python 3",
   "language": "python",
   "name": "python3"
  },
  "language_info": {
   "codemirror_mode": {
    "name": "ipython",
    "version": 3
   },
   "file_extension": ".py",
   "mimetype": "text/x-python",
   "name": "python",
   "nbconvert_exporter": "python",
   "pygments_lexer": "ipython3",
   "version": "3.11.8"
  }
 },
 "nbformat": 4,
 "nbformat_minor": 2
}
