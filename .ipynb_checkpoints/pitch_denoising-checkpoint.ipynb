{
 "cells": [
  {
   "cell_type": "code",
   "execution_count": 2,
   "metadata": {},
   "outputs": [],
   "source": [
    "# Imports\n",
    "from network import HopfieldNetwork\n",
    "from scipy.io import wavfile\n",
    "import numpy as np\n",
    "import matplotlib.pyplot as plt\n",
    "\n",
    "%matplotlib inline"
   ]
  },
  {
   "cell_type": "markdown",
   "metadata": {},
   "source": [
    "# Testing simple single pitch storage and denoising\n",
    "\n",
    "We will start by trying to store an a440 pitch into the Hopfield network. We will then add noise to the pitch and see if the Hopfield network can recover the initial pitch."
   ]
  },
  {
   "cell_type": "markdown",
   "metadata": {},
   "source": [
    "### Extracting audio data"
   ]
  },
  {
   "cell_type": "code",
   "execution_count": 3,
   "metadata": {},
   "outputs": [
    {
     "data": {
      "image/png": "[encoded data removed]",
      "text/plain": [
       "<Figure size 800x400 with 1 Axes>"
      ]
     },
     "metadata": {},
     "output_type": "display_data"
    }
   ],
   "source": [
    "file_path = './audio/Sine_wave_440.wav'\n",
    "\n",
    "# Read the wav file\n",
    "sample_rate, data = wavfile.read(file_path)\n",
    "\n",
    "# Take the fourier transform of the wav file\n",
    "fft_result = np.fft.fft(data)\n",
    "\n",
    "# Frequencies corresponding to the FFT result\n",
    "frequencies = np.fft.fftfreq(len(fft_result), 1/sample_rate)\n",
    "\n",
    "# Plot the magnitude spectrum\n",
    "plt.figure(figsize=(8, 4))\n",
    "plt.plot(frequencies[:len(frequencies)//2], np.abs(fft_result)[:len(frequencies)//2])\n",
    "plt.title('Magnitude Spectrum')\n",
    "plt.xlabel('Frequency (Hz)')\n",
    "plt.ylabel('Magnitude')\n",
    "plt.grid()\n",
    "plt.show()"
   ]
  },
  {
   "cell_type": "markdown",
   "metadata": {},
   "source": [
    "Above we can see a plot of the fourier transform, with a clear spike at 440Hz"
   ]
  },
  {
   "cell_type": "markdown",
   "metadata": {},
   "source": [
    "### Training the Hopfield network\n",
    "\n",
    "The fourier data is essentially 1D - the frequency is an index for an array of magnitudes. To convert between indices and frequencies, we can use the following formula:\n",
    "\n",
    "$$Index = \\left \\lfloor \\frac{Frequency \\times N}{Sample Rate} \\right \\rfloor$$\n",
    "\n",
    "Where $N$ is the size of the fourier transform data.\n",
    "\n",
    "Since we only want to focus on the positive frequencies, we will take the first half of the fourier transform array."
   ]
  },
  {
   "cell_type": "code",
   "execution_count": 8,
   "metadata": {},
   "outputs": [
    {
     "name": "stdout",
     "output_type": "stream",
     "text": [
      "Start to train weights...\n"
     ]
    },
    {
     "name": "stderr",
     "output_type": "stream",
     "text": [
      "  0%|          | 0/1 [00:00<?, ?it/s]"
     ]
    }
   ],
   "source": [
    "# Get the data we want to memorize\n",
    "from tqdm import tqdm\n",
    "\n",
    "\n",
    "positive_fft = np.abs(fft_result)[:len(frequencies)//2]\n",
    "\n",
    "# Initialize the Hopfield network\n",
    "model = HopfieldNetwork()\n",
    "\n",
    "num_neurons = [positive_fft][0].shape[0]\n",
    "print(num_neurons)\n",
    "\n",
    "# Train the weights in the network\n",
    "#model.train_weights([positive_fft])"
   ]
  },
  {
   "cell_type": "code",
   "execution_count": 27,
   "metadata": {},
   "outputs": [
    {
     "name": "stdout",
     "output_type": "stream",
     "text": [
      "[ 0.    0.05  0.1   0.15  0.2  -0.25 -0.2  -0.15 -0.1  -0.05]\n"
     ]
    }
   ],
   "source": [
    "test_data = np.fft.fftfreq(10, 2)\n",
    "\n",
    "print(test_data)"
   ]
  }
 ],
 "metadata": {
  "kernelspec": {
   "display_name": "Python 3",
   "language": "python",
   "name": "python3"
  },
  "language_info": {
   "codemirror_mode": {
    "name": "ipython",
    "version": 3
   },
   "file_extension": ".py",
   "mimetype": "text/x-python",
   "name": "python",
   "nbconvert_exporter": "python",
   "pygments_lexer": "ipython3",
   "version": "3.8.10"
  }
 },
 "nbformat": 4,
 "nbformat_minor": 2
}
